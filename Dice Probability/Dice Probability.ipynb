{
    "cells": [
        {
            "cell_type": "markdown",
            "id": "5b5ace08",
            "metadata": {},
            "source": "# Dice Probability"
        },
        {
            "cell_type": "code",
            "execution_count": 1,
            "id": "183a6ca5",
            "metadata": {
                "ExecuteTime": {
                    "end_time": "2021-06-12T05:40:50.333248Z",
                    "start_time": "2021-06-12T05:40:30.309917Z"
                }
            },
            "outputs": [
                {
                    "name": "stdout",
                    "output_type": "stream",
                    "text": "Game of Chances\nLets see the probability of different numbers showing up...\n...when we roll a die multiple times.\n\nHow many times do you want the die to get rolled?\n\n786\n\n\n\nThe number of times when the dice rolled the number -> One : 124 \n\t\t\t\t\t\t       Two : 146 \n\t\t\t\t\t\t     Three : 118 \n\t\t\t\t\t\t      Four : 145 \n\t\t\t\t\t\t      Five : 127 \n\t\t\t\t\t\t       Six : 126 \n\t\t\t\t\t\t     ------------- \n\t\t\t\t\t\t     Total : 786 \n\t\t\t\t\t\t     -------------\n\nSo, the probility is : \n\t\t\t\t\t\t       One : 0.16 \n\t\t\t\t\t\t       Two : 0.19 \n\t\t\t\t\t\t     Three : 0.15 \n\t\t\t\t\t\t      Four : 0.18 \n\t\t\t\t\t\t      Five : 0.16 \n\t\t\t\t\t\t       Six : 0.16 \n\t\t\t\t\t\t     ------------- \n\t\t\t\t\t\t     Total : 1.0 \n\t\t\t\t\t\t     -------------\n\n\n\nOr, the percentage of probility is : \n\t\t\t\t\t\t       One : 16.0 % \n\t\t\t\t\t\t       Two : 19.0 % \n\t\t\t\t\t\t     Three : 15.0 % \n\t\t\t\t\t\t      Four : 18.0 % \n\t\t\t\t\t\t      Five : 16.0 % \n\t\t\t\t\t\t       Six : 16.0 % \n\t\t\t\t\t\t     ------------- \n\t\t\t\t\t\t     Total : 100.0 % \n\t\t\t\t\t\t     -------------\n\nDo you want to check again?\nno\n"
                }
            ],
            "source": "import random\nimport time\nimport pyinputplus as pyip\n\n\nprint(\"Game of Chances\")\ntime.sleep(2)\nprint(\"Lets see the probability of different numbers showing up...\")\ntime.sleep(2)\nprint(\"...when we roll a die multiple times.\")\ntime.sleep(2)\nprint()\ncheck_again = \"Yes\"\nwhile check_again == \"Yes\" or check_again == \"yes\" or check_again == \"Y\" or check_again == \"y\":\n    print(\"How many times do you want the die to get rolled?\")\n    print()\n    time.sleep(1)\n    max_die_roll = pyip.inputInt(min=1)\n    no_of_rolls = 0\n    one = 0\n    two = 0\n    three = 0\n    four = 0\n    five = 0\n    six = 0\n    print(\"\\n\\n\")\n    while no_of_rolls < max_die_roll :\n        dice_roll = random.randint(1,6)\n        if dice_roll == 1 :\n            one = one + 1\n        elif dice_roll == 2 :\n            two = two + 1\n        elif dice_roll == 3 :\n            three = three + 1\n        elif dice_roll == 4 :\n            four = four + 1\n        elif dice_roll == 5 :\n            five = five + 1\n        else : \n            six = six + 1\n        no_of_rolls = no_of_rolls + 1\n    Total = one + two + three + four + five + six\n    time.sleep(2)\n    print(f\"The number of times when the dice rolled the number -> One : {one} \\n\\t\\t\\t\\t\\t\\t       Two : {two} \\n\\t\\t\\t\\t\\t\\t     Three : {three} \\n\\t\\t\\t\\t\\t\\t      Four : {four} \\n\\t\\t\\t\\t\\t\\t      Five : {five} \\n\\t\\t\\t\\t\\t\\t       Six : {six} \\n\\t\\t\\t\\t\\t\\t     ------------- \\n\\t\\t\\t\\t\\t\\t     Total : {Total} \\n\\t\\t\\t\\t\\t\\t     -------------\")\n    print()\n\n    prob_one = round(one/max_die_roll, 2)\n    prob_two = round(two/max_die_roll, 2)\n    prob_three = round(three/max_die_roll, 2)\n    prob_four = round(four/max_die_roll, 2)\n    prob_five = round(five/max_die_roll, 2)\n    prob_six = round(six/max_die_roll, 2)\n    prob_total = prob_one + prob_two + prob_three + prob_four + prob_five + prob_six\n    time.sleep(2)\n    print(f\"So, the probility is : \\n\\t\\t\\t\\t\\t\\t       One : {prob_one} \\n\\t\\t\\t\\t\\t\\t       Two : {prob_two} \\n\\t\\t\\t\\t\\t\\t     Three : {prob_three} \\n\\t\\t\\t\\t\\t\\t      Four : {prob_four} \\n\\t\\t\\t\\t\\t\\t      Five : {prob_five} \\n\\t\\t\\t\\t\\t\\t       Six : {prob_six} \\n\\t\\t\\t\\t\\t\\t     ------------- \\n\\t\\t\\t\\t\\t\\t     Total : {prob_total} \\n\\t\\t\\t\\t\\t\\t     -------------\")\n    print(\"\\n\\n\")\n\n    percent_one = prob_one * 100\n    percent_two = prob_two * 100\n    percent_three = prob_three * 100\n    percent_four = prob_four * 100\n    percent_five = prob_five * 100\n    percent_six = prob_six * 100\n    percent_total = percent_one + percent_two + percent_three + percent_four + percent_five + percent_six\n    time.sleep(2)\n    print(f\"Or, the percentage of probility is : \\n\\t\\t\\t\\t\\t\\t       One : {percent_one} % \\n\\t\\t\\t\\t\\t\\t       Two : {percent_two} % \\n\\t\\t\\t\\t\\t\\t     Three : {percent_three} % \\n\\t\\t\\t\\t\\t\\t      Four : {percent_four} % \\n\\t\\t\\t\\t\\t\\t      Five : {percent_five} % \\n\\t\\t\\t\\t\\t\\t       Six : {percent_six} % \\n\\t\\t\\t\\t\\t\\t     ------------- \\n\\t\\t\\t\\t\\t\\t     Total : {percent_total} % \\n\\t\\t\\t\\t\\t\\t     -------------\")\n    print()\n    print(\"Do you want to check again?\")\n    check_again = pyip.inputYesNo()\n\n"
        },
        {
            "cell_type": "code",
            "execution_count": null,
            "id": "bc116d01",
            "metadata": {},
            "outputs": [],
            "source": ""
        }
    ],
    "metadata": {
        "kernelspec": {
            "display_name": "Python 3",
            "language": "python",
            "name": "python3"
        },
        "language_info": {
            "codemirror_mode": {
                "name": "ipython",
                "version": 3
            },
            "file_extension": ".py",
            "mimetype": "text/x-python",
            "name": "python",
            "nbconvert_exporter": "python",
            "pygments_lexer": "ipython3",
            "version": "3.8.8"
        },
        "varInspector": {
            "cols": {
                "lenName": 16,
                "lenType": 16,
                "lenVar": 40
            },
            "kernels_config": {
                "python": {
                    "delete_cmd_postfix": "",
                    "delete_cmd_prefix": "del ",
                    "library": "var_list.py",
                    "varRefreshCmd": "print(var_dic_list())"
                },
                "r": {
                    "delete_cmd_postfix": ") ",
                    "delete_cmd_prefix": "rm(",
                    "library": "var_list.r",
                    "varRefreshCmd": "cat(var_dic_list()) "
                }
            },
            "types_to_exclude": [
                "module",
                "function",
                "builtin_function_or_method",
                "instance",
                "_Feature"
            ],
            "window_display": false
        }
    },
    "nbformat": 4,
    "nbformat_minor": 5
}