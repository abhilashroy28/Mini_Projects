{
    "cells": [
        {
            "cell_type": "markdown",
            "id": "ec42fe1e",
            "metadata": {},
            "source": "# Hangman"
        },
        {
            "cell_type": "code",
            "execution_count": null,
            "id": "4e6755c3",
            "metadata": {
                "ExecuteTime": {
                    "start_time": "2021-06-13T09:41:59.436Z"
                }
            },
            "outputs": [
                {
                    "name": "stdout",
                    "output_type": "stream",
                    "text": "\t\t\t\t \n _                                             \n| |                                            \n| |__   __ _ _ __   __ _ _ __ ___   __ _ _ __  \n| '_ \\ / _` | '_ \\ / _` | '_ ` _ \\ / _` | '_ \\ \n| | | | (_| | | | | (_| | | | | | | (_| | | | |\n|_| |_|\\__,_|_| |_|\\__, |_| |_| |_|\\__,_|_| |_|\n                    __/ |                      \n                   |___/    \n\t\t\t\t_ _ _ _ _ _\n\n\nGuess a letter: q\n\n\nYou made a wrong guess -> q\n\n\nWrong guesses made: ['q']\n\n\n\n  +---+\n  |   |\n  O   |\n      |\n      |\n      |\n=========\n\n\t\t\t\t_ _ _ _ _ _\n\nGuess a letter: a\n\n\t\t\t\ta _ _ _ _ _\n\nGuess a letter: s\n\n\nYou made a wrong guess -> s\n\n\nWrong guesses made: ['q', 's']\n\n\n\n  +---+\n  |   |\n  O   |\n  |   |\n      |\n      |\n=========\n\n\t\t\t\ta _ _ _ _ _\n\nGuess a letter: d\n\n\nYou made a wrong guess -> d\n\n\nWrong guesses made: ['q', 's', 'd']\n\n\n\n  +---+\n  |   |\n  O   |\n /|   |\n      |\n      |\n=========\n\t\t\t\ta _ _ _ _ _\n\nGuess a letter: v\n\n\t\t\t\ta v _ _ _ _\n\nGuess a letter: o\n\n\nYou made a wrong guess -> o\n\n\nWrong guesses made: ['q', 's', 'd', 'o']\n\n\n\n  +---+\n  |   |\n  O   |\n /|\\  |\n      |\n      |\n=========\n\n\t\t\t\ta v _ _ _ _\n\nGuess a letter: t\n\n\nYou made a wrong guess -> t\n\n\nWrong guesses made: ['q', 's', 'd', 'o', 't']\n\n\n\n  +---+\n  |   |\n  O   |\n /|\\  |\n /    |\n      |\n=========\n\n\t\t\t\ta v _ _ _ _\n\nGuess a letter: m\n\n\nYou made a wrong guess -> m\n\n\nWrong guesses made: ['q', 's', 'd', 'o', 't', 'm']\n\n\n\n  +---+\n  |   |\n  O   |\n /|\\  |\n / \\  |\n      |\n=========\n\n\nPssst, the solution is avenue.\n\nYou Lose!!\n\nYou were HANGED!!!!\n"
                }
            ],
            "source": "from replit import clear\nimport random\nimport time\n\n\nlogo = ''' \n _                                             \n| |                                            \n| |__   __ _ _ __   __ _ _ __ ___   __ _ _ __  \n| '_ \\ / _` | '_ \\ / _` | '_ ` _ \\ / _` | '_ \\ \n| | | | (_| | | | | (_| | | | | | | (_| | | | |\n|_| |_|\\__,_|_| |_|\\__, |_| |_| |_|\\__,_|_| |_|\n                    __/ |                      \n                   |___/    '''\nprint(f\"\\t\\t\\t\\t{logo}\")\n\nstages = ['''\n  +---+\n  |   |\n  O   |\n /|\\  |\n / \\  |\n      |\n=========\n''', '''\n  +---+\n  |   |\n  O   |\n /|\\  |\n /    |\n      |\n=========\n''', '''\n  +---+\n  |   |\n  O   |\n /|\\  |\n      |\n      |\n=========\n''', '''\n  +---+\n  |   |\n  O   |\n /|   |\n      |\n      |\n=========''', '''\n  +---+\n  |   |\n  O   |\n  |   |\n      |\n      |\n=========\n''', '''\n  +---+\n  |   |\n  O   |\n      |\n      |\n      |\n=========\n''', '''\n  +---+\n  |   |\n      |\n      |\n      |\n      |\n=========\n''']\n\nword_list = ['abruptly', 'absurd', 'abyss', 'affix', 'askew', 'avenue', 'awkward', 'axiom', 'azure', 'bagpipes', \n'bandwagon', 'banjo', 'bayou', 'beekeeper', 'bikini', 'blitz', 'blizzard', 'boggle', 'bookworm', 'boxcar', 'boxful', \n'buckaroo', 'buffalo', 'buffoon', 'buxom', 'buzzard', 'buzzing', 'buzzwords', 'caliph', 'cobweb', 'cockiness', \n'croquet', 'crypt', 'curacao', 'cycle', 'daiquiri', 'dirndl', 'disavow', 'dizzying', 'duplex', 'dwarves', \n'embezzle', 'equip', 'espionage', 'euouae', 'exodus', 'faking', 'fishhook', 'fixable', 'fjord', 'flapjack', \n'flopping', 'fluffiness', 'flyby', 'foxglove', 'frazzled', 'frizzled', 'fuchsia', 'funny', 'gabby', 'galaxy', \n'galvanize', 'gazebo', 'giaour', 'gizmo', 'glowworm', 'glyph', 'gnarly', 'gnostic', 'gossip', 'grogginess', \n'haiku', 'haphazard', 'hyphen', 'iatrogenic', 'icebox', 'injury', 'ivory', 'ivy', 'jackpot', 'jaundice', \n'jawbreaker', 'jaywalk', 'jazziest', 'jazzy', 'jelly', 'jigsaw', 'jinx', 'jiujitsu', 'jockey', 'jogging', 'joking', \n'jovial', 'joyful', 'juicy', 'jukebox', 'jumbo', 'kayak', 'kazoo', 'keyhole', 'khaki', 'kilobyte', 'kiosk', \n'kitsch', 'kiwifruit', 'klutz', 'knapsack', 'larynx', 'lengths', 'lucky', 'luxury', 'lymph', 'marquis', 'matrix', \n'megahertz', 'microwave', 'mnemonic', 'mystify', 'naphtha', 'nightclub', 'nowadays', 'numbskull', 'nymph', 'onyx', \n'ovary', 'oxidize', 'oxygen', 'pajama', 'peekaboo', 'phlegm', 'pixel', 'pizazz', 'pneumonia', 'polka', 'pshaw', \n'psyche', 'puppy', 'puzzling', 'quartz', 'queue', 'quips', 'quixotic', 'quiz', 'quizzes', 'quorum', 'razzmatazz', \n'rhubarb', 'rhythm', 'rickshaw', 'schnapps', 'scratch', 'shiv', 'snazzy', 'sphinx', 'spritz', 'squawk', 'staff', \n'strength', 'strengths', 'stretch', 'stronghold', 'stymied', 'subway', 'swivel', 'syndrome', 'thriftless', \n'thumbscrew', 'topaz', 'transcript', 'transgress', 'transplant', 'triphthong', 'twelfth', 'twelfths', 'unknown', \n'unworthy', 'unzip', 'uptown', 'vaporize', 'vixen', 'vodka', 'voodoo', 'vortex', 'voyeurism', 'walkway', 'waltz', \n'wave', 'wavy', 'waxy', 'wellspring', 'wheezy', 'whiskey', 'whizzing', 'whomever', 'wimpy', 'witchcraft', 'wizard', 'woozy', \n'wristwatch', 'wyvern', 'xylophone', 'yachtsman', 'yippee', 'yoked', 'youthful', 'yummy', 'zephyr', 'zigzag', \n'zigzagging', 'zilch', 'zipper', 'zodiac', 'zombie']\n\nchosen_word = random.choice(word_list)\n\n\n\n\n\ndisplay = []\n\nfor letter in chosen_word:\n    display.append(\"_\")\n\nprint(f\"\\t\\t\\t\\t{' '.join(display)}\")\nprint()\n\nwrong_guesses = []\nend_of_game = \"False\"\nlives = 6\n\nwhile end_of_game == 'False':\n    if lives > 0:\n        while \"_\" in display:\n\n            print()\n            guess = input('Guess a letter: ').lower()\n            print()\n            \n            for position in range(len(chosen_word)):\n                if guess == chosen_word[position]:\n                    display[position] = guess\n            if guess not in chosen_word:\n                wrong_guesses.append(guess)\n                print()\n                print(f\"You made a wrong guess -> {guess}\")\n                print()\n                print()\n                print(f'Wrong guesses made: {wrong_guesses}')\n                print()\n                lives -= 1\n                print()\n                print(stages[lives])\n                if lives == 0:\n                    print()\n                    print(f'Pssst, the solution is {chosen_word}.')\n                    print()\n                    print(\"You Lose!!\")\n                    print()\n                    print(\"You were HANGED!!!!\")\n                    break\n            print(f\"\\t\\t\\t\\t{' '.join(display)}\")\n            \n        if '_' not in display:\n            print()\n            print('You Win!!')\n            break\n      \n"
        },
        {
            "cell_type": "code",
            "execution_count": null,
            "id": "e5f24840",
            "metadata": {},
            "outputs": [],
            "source": ""
        }
    ],
    "metadata": {
        "kernelspec": {
            "display_name": "Python 3",
            "language": "python",
            "name": "python3"
        },
        "varInspector": {
            "cols": {
                "lenName": 16,
                "lenType": 16,
                "lenVar": 40
            },
            "kernels_config": {
                "python": {
                    "delete_cmd_postfix": "",
                    "delete_cmd_prefix": "del ",
                    "library": "var_list.py",
                    "varRefreshCmd": "print(var_dic_list())"
                },
                "r": {
                    "delete_cmd_postfix": ") ",
                    "delete_cmd_prefix": "rm(",
                    "library": "var_list.r",
                    "varRefreshCmd": "cat(var_dic_list()) "
                }
            },
            "types_to_exclude": [
                "module",
                "function",
                "builtin_function_or_method",
                "instance",
                "_Feature"
            ],
            "window_display": false
        }
    },
    "nbformat": 4,
    "nbformat_minor": 5
}