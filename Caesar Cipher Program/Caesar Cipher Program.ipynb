{
    "cells": [
        {
            "cell_type": "code",
            "execution_count": 1,
            "id": "38e8444b",
            "metadata": {
                "ExecuteTime": {
                    "end_time": "2021-06-16T14:19:57.458834Z",
                    "start_time": "2021-06-16T14:19:32.209286Z"
                }
            },
            "outputs": [
                {
                    "name": "stdout",
                    "output_type": "stream",
                    "text": "           \n ,adPPYba, ,adPPYYba,  ,adPPYba, ,adPPYba, ,adPPYYba, 8b,dPPYba,  \na8\"     \"\" \"\"     `Y8 a8P_____88 I8[    \"\" \"\"     `Y8 88P'   \"Y8  \n8b         ,adPPPPP88 8PP\"  `\"Y8ba,  ,adPPPPP88 88          \n\"8a,   ,aa 88,    ,88 \"8b,   ,aa aa    ]8I 88,    ,88 88          \n `\"Ybbd8\"' `\"8bbdP\"Y8  `\"Ybbd8\"' `\"YbbdP\"' `\"8bbdP\"Y8 88   \n            88             88                                 \n           \"\"             88                                 \n                          88                                 \n ,adPPYba, 88 8b,dPPYba,  88,dPPYba,   ,adPPYba, 8b,dPPYba,  \na8\"     \"\" 88 88P'    \"8a 88P'    \"8a a8P_____88 88P'   \"Y8  \n8b         88 88       d8 88       88 8PP\" 88          \n\"8a,   ,aa 88 88b,   ,a8\" 88       88 \"8b,   ,aa 88          \n `\"Ybbd8\"' 88 88`YbbdP\"'  88       88  `\"Ybbd8\"' 88          \n              88                                             \n              88           \n\n\n\nType 'encode' to encrypt, type 'decode' to decrypt:\n1. Encode\n2. Decode\nencode\n\nType your message:\nHello, my name is Abhilash. I am 25 years old.\n\nType the shift number:\n5\n\n\nHere's the encoded result:\n\t\t\t\t mjqqt, rd sfrj nx fgmnqfxm. n fr 25 djfwx tqi.\n\n\nDo you want to continue with the cipher program?\n\n\n1. Yes\n2. No\nyes\n\nType 'encode' to encrypt, type 'decode' to decrypt:\n1. Encode\n2. Decode\ndecode\n\nType your message:\nmjqqt, rd sfrj nx fgmnqfxm. n fr 25 djfwx tqi.\n\nType the shift number:\n5\n\n\nHere's the decoded result:\n\t\t\t\t hello, my name is abhilash. i am 25 years old.\n\n\nDo you want to continue with the cipher program?\n\n\n1. Yes\n2. No\nno\n\n\nGoodbye.\n"
                }
            ],
            "source": "logo = \"\"\"           \n ,adPPYba, ,adPPYYba,  ,adPPYba, ,adPPYba, ,adPPYYba, 8b,dPPYba,  \na8\"     \"\" \"\"     `Y8 a8P_____88 I8[    \"\" \"\"     `Y8 88P'   \"Y8  \n8b         ,adPPPPP88 8PP\"\"\"\"\"\"\"  `\"Y8ba,  ,adPPPPP88 88          \n\"8a,   ,aa 88,    ,88 \"8b,   ,aa aa    ]8I 88,    ,88 88          \n `\"Ybbd8\"' `\"8bbdP\"Y8  `\"Ybbd8\"' `\"YbbdP\"' `\"8bbdP\"Y8 88   \n            88             88                                 \n           \"\"             88                                 \n                          88                                 \n ,adPPYba, 88 8b,dPPYba,  88,dPPYba,   ,adPPYba, 8b,dPPYba,  \na8\"     \"\" 88 88P'    \"8a 88P'    \"8a a8P_____88 88P'   \"Y8  \n8b         88 88       d8 88       88 8PP\"\"\"\"\"\"\" 88          \n\"8a,   ,aa 88 88b,   ,a8\" 88       88 \"8b,   ,aa 88          \n `\"Ybbd8\"' 88 88`YbbdP\"'  88       88  `\"Ybbd8\"' 88          \n              88                                             \n              88           \n\"\"\"\nprint(logo)\nprint()\n\nimport pyinputplus as pyip\n\nalphabet = ['a', 'b', 'c', 'd', 'e', 'f', 'g', 'h', 'i', 'j', 'k', 'l', 'm', 'n', 'o', 'p', 'q', 'r', 's', 't', 'u', 'v', 'w', 'x', 'y', 'z', 'a', 'b', 'c', 'd', 'e', 'f', 'g', 'h', 'i', 'j', 'k', 'l', 'm', 'n', 'o', 'p', 'q', 'r', 's', 't', 'u', 'v', 'w', 'x', 'y', 'z']\n\nplayagain = \"Yes\"\n\nwhile playagain == \"Yes\":\n    \n    print()\n    direction = pyip.inputMenu([\"Encode\", \"Decode\"],numbered=True, prompt=\"Type 'encode' to encrypt, type 'decode' to decrypt:\\n\").lower()\n    print()\n    text = input(\"Type your message:\\n\").lower()\n    print()\n    shift = int(input(\"Type the shift number:\\n\"))\n    \n    shift = shift % 26\n    \n    def caesar(start_text, shift_amount, cipher_direction):\n        end_text = \"\"\n        for char in start_text:\n            if char in alphabet:\n                position = alphabet.index(char)\n                if cipher_direction == \"encode\":\n                    new_position = position + shift_amount\n                elif cipher_direction == \"decode\":\n                    new_position = position - shift_amount\n                end_text += alphabet[new_position]\n            else:\n                end_text += char\n        print()\n        print()\n        print(f\"Here's the {cipher_direction}d result:\\n\\t\\t\\t\\t {end_text}\")\n\n    caesar(start_text=text, shift_amount=shift, cipher_direction=direction)\n    print()\n    print()\n    print(\"Do you want to continue with the cipher program?\\n\\n\")\n    playagain = pyip.inputMenu(['Yes', 'No'], numbered = True, prompt= \"\")\n\n    if playagain == \"No\":\n        print()\n        print()\n        print(\"Goodbye.\")\n        "
        },
        {
            "cell_type": "code",
            "execution_count": null,
            "id": "f12e42cc",
            "metadata": {},
            "outputs": [],
            "source": ""
        }
    ],
    "metadata": {
        "kernelspec": {
            "display_name": "Python 3",
            "language": "python",
            "name": "python3"
        },
        "language_info": {
            "codemirror_mode": {
                "name": "ipython",
                "version": 3
            },
            "file_extension": ".py",
            "mimetype": "text/x-python",
            "name": "python",
            "nbconvert_exporter": "python",
            "pygments_lexer": "ipython3",
            "version": "3.8.8"
        },
        "varInspector": {
            "cols": {
                "lenName": 16,
                "lenType": 16,
                "lenVar": 40
            },
            "kernels_config": {
                "python": {
                    "delete_cmd_postfix": "",
                    "delete_cmd_prefix": "del ",
                    "library": "var_list.py",
                    "varRefreshCmd": "print(var_dic_list())"
                },
                "r": {
                    "delete_cmd_postfix": ") ",
                    "delete_cmd_prefix": "rm(",
                    "library": "var_list.r",
                    "varRefreshCmd": "cat(var_dic_list()) "
                }
            },
            "types_to_exclude": [
                "module",
                "function",
                "builtin_function_or_method",
                "instance",
                "_Feature"
            ],
            "window_display": false
        }
    },
    "nbformat": 4,
    "nbformat_minor": 5
}