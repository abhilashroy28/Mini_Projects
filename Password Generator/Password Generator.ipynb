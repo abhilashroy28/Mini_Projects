{
    "cells": [
        {
            "cell_type": "markdown",
            "id": "0f2f1da5",
            "metadata": {},
            "source": "# Password Generator"
        },
        {
            "cell_type": "code",
            "execution_count": 1,
            "id": "db2aba08",
            "metadata": {
                "ExecuteTime": {
                    "end_time": "2021-06-12T14:09:15.505206Z",
                    "start_time": "2021-06-12T14:09:07.792011Z"
                }
            },
            "outputs": [
                {
                    "name": "stdout",
                    "output_type": "stream",
                    "text": "Welcome to the PyPassword Generator!\n\nHow many letters would you like in your password?\n4\n\nHow many symbols would you like?\n3\n\nHow many numbers would you like?\n3\n\nYour password is: 49!L#C8i!d\n"
                }
            ],
            "source": "import random\nletters = ['a', 'b', 'c', 'd', 'e', 'f', 'g', 'h', 'i', 'j', 'k', 'l', 'm', 'n', 'o', 'p', 'q', 'r', 's', 't', 'u', 'v', 'w', 'x', 'y', 'z', 'A', 'B', 'C', 'D', 'E', 'F', 'G', 'H', 'I', 'J', 'K', 'L', 'M', 'N', 'O', 'P', 'Q', 'R', 'S', 'T', 'U', 'V', 'W', 'X', 'Y', 'Z']\nnumbers = ['0', '1', '2', '3', '4', '5', '6', '7', '8', '9']\nsymbols = ['!', '#', '$', '%', '&', '(', ')', '*', '+']\n\nprint(\"Welcome to the PyPassword Generator!\")\nprint()\nnr_letters= int(input(\"How many letters would you like in your password?\\n\")) \nprint()\nnr_symbols = int(input(f\"How many symbols would you like?\\n\"))\nprint()\nnr_numbers = int(input(f\"How many numbers would you like?\\n\"))\nprint()\npassword_list = []\n\nfor char in range(1, nr_letters + 1):\n    password_list.append(random.choice(letters))\n    \nfor num in range(1, nr_numbers + 1):\n    password_list.append(random.choice(numbers))\n    \nfor symbol in range(1, nr_symbols + 1):\n    password_list.append(random.choice(symbols))\n    \nrandom.shuffle(password_list)\n\npassword = \"\"\n\nfor char in password_list:\n    password += char\n    \nprint(f'Your password is: {password}')\n    "
        }
    ],
    "metadata": {
        "kernelspec": {
            "display_name": "Python 3",
            "language": "python",
            "name": "python3"
        },
        "language_info": {
            "codemirror_mode": {
                "name": "ipython",
                "version": 3
            },
            "file_extension": ".py",
            "mimetype": "text/x-python",
            "name": "python",
            "nbconvert_exporter": "python",
            "pygments_lexer": "ipython3",
            "version": "3.8.8"
        },
        "varInspector": {
            "cols": {
                "lenName": 16,
                "lenType": 16,
                "lenVar": 40
            },
            "kernels_config": {
                "python": {
                    "delete_cmd_postfix": "",
                    "delete_cmd_prefix": "del ",
                    "library": "var_list.py",
                    "varRefreshCmd": "print(var_dic_list())"
                },
                "r": {
                    "delete_cmd_postfix": ") ",
                    "delete_cmd_prefix": "rm(",
                    "library": "var_list.r",
                    "varRefreshCmd": "cat(var_dic_list()) "
                }
            },
            "types_to_exclude": [
                "module",
                "function",
                "builtin_function_or_method",
                "instance",
                "_Feature"
            ],
            "window_display": false
        }
    },
    "nbformat": 4,
    "nbformat_minor": 5
}