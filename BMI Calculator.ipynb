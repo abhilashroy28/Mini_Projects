{
    "cells": [
        {
            "cell_type": "markdown",
            "metadata": {},
            "source": "# BMI Calculator"
        },
        {
            "cell_type": "code",
            "execution_count": 1,
            "metadata": {
                "ExecuteTime": {
                    "end_time": "2021-06-01T18:53:05.511508Z",
                    "start_time": "2021-06-01T18:52:54.993609Z"
                }
            },
            "outputs": [
                {
                    "name": "stdout",
                    "output_type": "stream",
                    "text": "Do you want to enter your weight in Kg or Pound?\nPlease select one of the following:\n1. Kg\n2. Pound\nkg\n\nEnter your weight in Kg: \n\n67\n\n\nDo you want to enter your height in Metre or Inch or Centimetres?\nPlease select one of the following:\n1. Inch\n2. Metre\n3. cm\ncm\n\nEnter your height in Centimetres: \n\n178\n\nYour BMI is 21.15.\n\nYour weight is normal.\n\n\n\n\n\n"
                }
            ],
            "source": "import pyinputplus as pyip\nprint(\"Do you want to enter your weight in Kg or Pound?\")\nweight_choice = pyip.inputMenu([\"Kg\", \"Pound\"], numbered=True)\nprint()\nif weight_choice == \"Kg\":\n    print(\"Enter your weight in Kg: \\n\")\nelif weight_choice == \"Pound\":\n    print(\"Enter your weight in Pound: \\n\")\nweight = pyip.inputNum()\nprint()\nprint()\nprint(\"Do you want to enter your height in Metre or Inch or Centimetres?\")\nheight_choice = pyip.inputMenu([\"Inch\", \"Metre\", \"cm\"], numbered=True)\nprint()\nif height_choice == \"Inch\":\n    print(\"Enter your height in Inch: \\n\")\nelif height_choice == \"Metre\":\n    print(\"Enter your height in Metre: \\n\")\nelif height_choice == \"cm\":\n    print(\"Enter your height in Centimetres: \\n\")\nheight = pyip.inputNum()\n\nif weight_choice == \"Kg\" and height_choice == \"Metre\" :\n    BMI = round((weight/(height**2)), 2)\n    print()\n    print(BMI)\nelif weight_choice == \"Kg\" and height_choice == \"Inch\" :\n    BMI = round(((weight/(height**2))*1550), 2)\n    print()\n    print(BMI)\nelif weight_choice == \"Pound\" and height_choice == \"Metre\" :\n    BMI = round(((weight/(height**2))/2.20462), 2)\n    print()\n    print(f\"Your BMI is {BMI}.\")\nelif weight_choice == \"Pound\" and height_choice == \"Inch\" :\n    BMI = round(((weight/(height**2))* 1550/2.20462), 2)\n    print()\n    print(f\"Your BMI is {BMI}.\")\nelif weight_choice == \"Pound\" and height_choice == \"cm\" :\n    BMI = round(((weight/(height**2))* 10000/2.20462), 2)\n    print()\n    print(f\"Your BMI is {BMI}.\")\nelif weight_choice == \"Kg\" and height_choice == \"cm\" :\n    BMI = round(((weight/(height**2))* 10000), 2)\n    print()\n    print(f\"Your BMI is {BMI}.\")\nprint()\nif BMI < 18.5 :\n    index = print(\" You are Underweight.\")\nelif BMI < 24.9 :\n    index = print(\"Your weight is normal.\")\nelif BMI < 29.9 :\n    index = print(\"You are overweight.\")\nelse :\n    index = print(\"You are obese.\")\n\nprint()\nprint()\nprint()\nprint()\nprint()"
        },
        {
            "cell_type": "code",
            "execution_count": null,
            "metadata": {},
            "outputs": [],
            "source": ""
        }
    ],
    "metadata": {
        "kernelspec": {
            "display_name": "Python 3.7",
            "language": "python",
            "name": "python3"
        },
        "language_info": {
            "codemirror_mode": {
                "name": "ipython",
                "version": 3
            },
            "file_extension": ".py",
            "mimetype": "text/x-python",
            "name": "python",
            "nbconvert_exporter": "python",
            "pygments_lexer": "ipython3",
            "version": "3.7.10"
        },
        "varInspector": {
            "cols": {
                "lenName": 16,
                "lenType": 16,
                "lenVar": 40
            },
            "kernels_config": {
                "python": {
                    "delete_cmd_postfix": "",
                    "delete_cmd_prefix": "del ",
                    "library": "var_list.py",
                    "varRefreshCmd": "print(var_dic_list())"
                },
                "r": {
                    "delete_cmd_postfix": ") ",
                    "delete_cmd_prefix": "rm(",
                    "library": "var_list.r",
                    "varRefreshCmd": "cat(var_dic_list()) "
                }
            },
            "types_to_exclude": [
                "module",
                "function",
                "builtin_function_or_method",
                "instance",
                "_Feature"
            ],
            "window_display": false
        }
    },
    "nbformat": 4,
    "nbformat_minor": 5
}