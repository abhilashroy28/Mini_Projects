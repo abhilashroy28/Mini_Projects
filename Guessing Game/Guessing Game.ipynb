{
    "cells": [
        {
            "cell_type": "markdown",
            "id": "9040395e",
            "metadata": {},
            "source": "# Guessing Game"
        },
        {
            "cell_type": "code",
            "execution_count": 1,
            "id": "a9222291",
            "metadata": {
                "ExecuteTime": {
                    "end_time": "2021-06-12T05:48:02.672711Z",
                    "start_time": "2021-06-12T05:47:34.313125Z"
                }
            },
            "outputs": [
                {
                    "name": "stdout",
                    "output_type": "stream",
                    "text": "Artificial Intelligence : Hello! What is your name?\n\t\t Player : Abhilash\n\n\nArtificial Intelligence : Hello Abhilash, Nice to meet you.\n\n\nArtificial Intelligence : Abhilash, would you like to play a guessing game?\n\t\t\t\t'Yes' or 'No':\n\t\t Player : yes\n\n\nArtificial Intelligence : Great then.\n\t\t\t  You will get 5 guesses.\n\t\t\t  I am thinking of a number between 1 and 20!\n\nArtificial Intelligence : Take a guess:\n  \n5\nArtificial Intelligence : Your input is low\nArtificial Intelligence : Take a guess:\n  \n10\nArtificial Intelligence : Your input is low\nArtificial Intelligence : Take a guess:\n  \n15\nArtificial Intelligence : Your input is low\nArtificial Intelligence : Take a guess:\n  \n18\nArtificial Intelligence : Your input is low\nArtificial Intelligence : Take a guess:\n  \n19\nArtificial Intelligence : Correct!!!! Lucky fellow!! You did it in your last guess, which is number 5!!\nDo you want to play again?\n1. Yes\n2. No\nno\n"
                }
            ],
            "source": "import pyinputplus as pyip\nimport random\nimport time\nnumber = random.randint(1,20)\nprint(\"Artificial Intelligence : Hello! What is your name?\")\nname = input(\"\\t\\t Player : \")\nprint(\"\\n\")\nprint(f\"Artificial Intelligence : Hello {name}, Nice to meet you.\")\nprint(\"\\n\")\ntime.sleep(1)\nprint(f\"Artificial Intelligence : {name}, would you like to play a guessing game?\")\nY_N = input(\"\\t\\t\\t\\t'Yes' or 'No':\\n\\t\\t Player : \")\nplayagain = \"Yes\"\nwhile playagain == \"Yes\":\n    if Y_N == \"Yes\" or Y_N == \"yes\" or Y_N == \"Y\" or Y_N == \"y\" :\n            print(\"\\n\")\n            print(\"Artificial Intelligence : Great then.\")\n            time.sleep(1)\n            print(\"\\t\\t\\t  You will get 5 guesses.\")\n            time.sleep(1)\n            print(\"\\t\\t\\t  I am thinking of a number between 1 and 20!\\n\")\n            total_guesses = 0\n            time.sleep(1)\n            while total_guesses < 5 :\n                guess = int(input(\"Artificial Intelligence : Take a guess:\\n  \" + \"\\n\"))\n                total_guesses = total_guesses + 1\n                if guess < number :\n                    print(\"Artificial Intelligence : Your input is low\")\n                if guess > number :\n                    print(\"Artificial Intelligence : Your input is high\")\n                if guess == number :\n                    if total_guesses == 1 :\n                        print(f\"Artificial Intelligence : Correct!!!! Great buddy!! You did it in {total_guesses} guess!!\")\n                    elif total_guesses == 5 :\n                        print(f\"Artificial Intelligence : Correct!!!! Lucky fellow!! You did it in your last guess, which is number {total_guesses}!!\")\n                    else :\n                        print(f\"Artificial Intelligence : Correct!!!! Great buddy!! You did it in {total_guesses} guesses!!\")\n                    break\n            if guess != number :\n                print(f\"\\n\\tUh Ohh, You lost buddy. I was thinking of {number}. \\n\\n\\t Better Luck next time!\")\n    elif Y_N == \"No\" or Y_N == \"no\" or Y_N == \"N\" or Y_N == \"n\" :\n        print(\"Artificial Intelligence : Oh, Thats bad. See you soon my friend. Bye!\")\n        break\n    else :\n        print(\"Artificial Intelligence : Try again. Wrong input.\")  \n    print(\"Do you want to play again?\")\n    time.sleep(1)\n    playagain = pyip.inputMenu([\"Yes\", \"No\"], numbered = True, prompt=\"\")"
        },
        {
            "cell_type": "code",
            "execution_count": null,
            "id": "5339f9e0",
            "metadata": {},
            "outputs": [],
            "source": ""
        },
        {
            "cell_type": "code",
            "execution_count": null,
            "id": "fc91aa41",
            "metadata": {},
            "outputs": [],
            "source": ""
        }
    ],
    "metadata": {
        "kernelspec": {
            "display_name": "Python 3",
            "language": "python",
            "name": "python3"
        },
        "language_info": {
            "codemirror_mode": {
                "name": "ipython",
                "version": 3
            },
            "file_extension": ".py",
            "mimetype": "text/x-python",
            "name": "python",
            "nbconvert_exporter": "python",
            "pygments_lexer": "ipython3",
            "version": "3.8.8"
        },
        "varInspector": {
            "cols": {
                "lenName": 16,
                "lenType": 16,
                "lenVar": 40
            },
            "kernels_config": {
                "python": {
                    "delete_cmd_postfix": "",
                    "delete_cmd_prefix": "del ",
                    "library": "var_list.py",
                    "varRefreshCmd": "print(var_dic_list())"
                },
                "r": {
                    "delete_cmd_postfix": ") ",
                    "delete_cmd_prefix": "rm(",
                    "library": "var_list.r",
                    "varRefreshCmd": "cat(var_dic_list()) "
                }
            },
            "types_to_exclude": [
                "module",
                "function",
                "builtin_function_or_method",
                "instance",
                "_Feature"
            ],
            "window_display": false
        }
    },
    "nbformat": 4,
    "nbformat_minor": 5
}