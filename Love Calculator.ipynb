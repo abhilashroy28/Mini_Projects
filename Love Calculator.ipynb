{
    "cells": [
        {
            "cell_type": "code",
            "execution_count": 1,
            "metadata": {
                "ExecuteTime": {
                    "end_time": "2021-06-02T05:43:38.016627Z",
                    "start_time": "2021-06-02T05:42:48.873640Z"
                }
            },
            "outputs": [
                {
                    "name": "stdout",
                    "output_type": "stream",
                    "text": "Welcome to the Love Calculator!\n\nWhat is your name? \nBrad Pitt\n\nWhat is their name? \nJennifer Aniston\n\nYour score is 73, you are alright together.\n"
                }
            ],
            "source": "import pyinputplus as pyip\n\nprint(\"Welcome to the Love Calculator!\")\nprint()\n\nname1 = pyip.inputStr(\"What is your name? \\n\")\nprint()\n\nname2 = pyip.inputStr(\"What is their name? \\n\")\n\nname1_lower = name1.lower()\nname2_lower = name2.lower()\njoint_name = name1_lower + name2_lower\n\ntrue_count = joint_name.count(\"t\") + joint_name.count(\"r\") + joint_name.count(\n    \"u\") + joint_name.count(\"e\")\n\nlove_count = joint_name.count(\"l\") + joint_name.count(\"o\") + joint_name.count(\n    \"v\") + joint_name.count(\"e\")\n\ntotal_count = int(str(true_count) + str(love_count))\nprint()\nif total_count < 10 or total_count > 90:\n    print(\n        f\"Your score is {total_count}, you go together like coke and mentos.\")\nelif total_count < 50 or total_count > 40:\n    print(f\"Your score is {total_count}, you are alright together.\")\nelse:\n    print(f\"Your score is {total_count}.\")"
        },
        {
            "cell_type": "code",
            "execution_count": null,
            "metadata": {},
            "outputs": [],
            "source": ""
        }
    ],
    "metadata": {
        "kernelspec": {
            "display_name": "Python 3.7",
            "language": "python",
            "name": "python3"
        },
        "language_info": {
            "codemirror_mode": {
                "name": "ipython",
                "version": 3
            },
            "file_extension": ".py",
            "mimetype": "text/x-python",
            "name": "python",
            "nbconvert_exporter": "python",
            "pygments_lexer": "ipython3",
            "version": "3.7.10"
        },
        "varInspector": {
            "cols": {
                "lenName": 16,
                "lenType": 16,
                "lenVar": 40
            },
            "kernels_config": {
                "python": {
                    "delete_cmd_postfix": "",
                    "delete_cmd_prefix": "del ",
                    "library": "var_list.py",
                    "varRefreshCmd": "print(var_dic_list())"
                },
                "r": {
                    "delete_cmd_postfix": ") ",
                    "delete_cmd_prefix": "rm(",
                    "library": "var_list.r",
                    "varRefreshCmd": "cat(var_dic_list()) "
                }
            },
            "types_to_exclude": [
                "module",
                "function",
                "builtin_function_or_method",
                "instance",
                "_Feature"
            ],
            "window_display": false
        }
    },
    "nbformat": 4,
    "nbformat_minor": 5
}