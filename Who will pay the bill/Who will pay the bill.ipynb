{
    "cells": [
        {
            "cell_type": "markdown",
            "id": "99bd3aaa",
            "metadata": {},
            "source": "# Who will pay the bill?"
        },
        {
            "cell_type": "code",
            "execution_count": 1,
            "id": "56625cf6",
            "metadata": {
                "ExecuteTime": {
                    "end_time": "2021-06-12T06:03:37.816572Z",
                    "start_time": "2021-06-12T06:03:35.454814Z"
                }
            },
            "outputs": [
                {
                    "name": "stdout",
                    "output_type": "stream",
                    "text": "Artificial Intelligence : Give me everybody's names, separated by a comma. \n\nUser: Abhilash, Vaishali, Anindita, Ankit, Ravi, Tushar\n\nArtificial Intelligence: Vaishali is going to pay the bill!\n"
                }
            ],
            "source": "import random\nprint(\"Artificial Intelligence : Give me everybody's names, separated by a comma. \")\nprint()\nnames_string = input('User: ')\nprint()\nnames = names_string.split(\", \")\nnum_items = len(names)\nrandom_choice = random.randint(0, num_items - 1)\nfinal_choice = names[random_choice]\nprint(f\"Artificial Intelligence: {final_choice} is going to pay the bill!\")"
        },
        {
            "cell_type": "code",
            "execution_count": null,
            "id": "4a988440",
            "metadata": {},
            "outputs": [],
            "source": ""
        }
    ],
    "metadata": {
        "kernelspec": {
            "display_name": "Python 3",
            "language": "python",
            "name": "python3"
        },
        "language_info": {
            "codemirror_mode": {
                "name": "ipython",
                "version": 3
            },
            "file_extension": ".py",
            "mimetype": "text/x-python",
            "name": "python",
            "nbconvert_exporter": "python",
            "pygments_lexer": "ipython3",
            "version": "3.8.8"
        },
        "varInspector": {
            "cols": {
                "lenName": 16,
                "lenType": 16,
                "lenVar": 40
            },
            "kernels_config": {
                "python": {
                    "delete_cmd_postfix": "",
                    "delete_cmd_prefix": "del ",
                    "library": "var_list.py",
                    "varRefreshCmd": "print(var_dic_list())"
                },
                "r": {
                    "delete_cmd_postfix": ") ",
                    "delete_cmd_prefix": "rm(",
                    "library": "var_list.r",
                    "varRefreshCmd": "cat(var_dic_list()) "
                }
            },
            "types_to_exclude": [
                "module",
                "function",
                "builtin_function_or_method",
                "instance",
                "_Feature"
            ],
            "window_display": false
        }
    },
    "nbformat": 4,
    "nbformat_minor": 5
}