{
    "cells": [
        {
            "cell_type": "markdown",
            "id": "c452bf70",
            "metadata": {},
            "source": "# Average without using Len and Sum function"
        },
        {
            "cell_type": "code",
            "execution_count": 1,
            "id": "a6273fdc",
            "metadata": {
                "ExecuteTime": {
                    "end_time": "2021-06-12T12:31:27.152531Z",
                    "start_time": "2021-06-12T12:31:24.570726Z"
                }
            },
            "outputs": [
                {
                    "name": "stdout",
                    "output_type": "stream",
                    "text": "Input a list of student heights: 156 178 165 171 187\n\nThe Average Student height is 171.4.\n"
                }
            ],
            "source": "student_heights = input(\"Input a list of student heights: \").split()\n\nfor n in range(0, len(student_heights)):\n    student_heights[n] = int(student_heights[n])\n    \ntotal_height = 0\n\nfor height in student_heights:\n    total_height += height\n\nnumber_of_students = 0    \n\nfor height in student_heights:\n    number_of_students += 1\n\nAverage = total_height/number_of_students\n\nprint()\nprint(f'The Average Student height is {Average}.')"
        }
    ],
    "metadata": {
        "kernelspec": {
            "display_name": "Python 3",
            "language": "python",
            "name": "python3"
        },
        "language_info": {
            "codemirror_mode": {
                "name": "ipython",
                "version": 3
            },
            "file_extension": ".py",
            "mimetype": "text/x-python",
            "name": "python",
            "nbconvert_exporter": "python",
            "pygments_lexer": "ipython3",
            "version": "3.8.8"
        },
        "varInspector": {
            "cols": {
                "lenName": 16,
                "lenType": 16,
                "lenVar": 40
            },
            "kernels_config": {
                "python": {
                    "delete_cmd_postfix": "",
                    "delete_cmd_prefix": "del ",
                    "library": "var_list.py",
                    "varRefreshCmd": "print(var_dic_list())"
                },
                "r": {
                    "delete_cmd_postfix": ") ",
                    "delete_cmd_prefix": "rm(",
                    "library": "var_list.r",
                    "varRefreshCmd": "cat(var_dic_list()) "
                }
            },
            "types_to_exclude": [
                "module",
                "function",
                "builtin_function_or_method",
                "instance",
                "_Feature"
            ],
            "window_display": false
        }
    },
    "nbformat": 4,
    "nbformat_minor": 5
}