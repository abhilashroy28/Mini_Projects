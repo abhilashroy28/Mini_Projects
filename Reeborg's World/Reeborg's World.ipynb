{
    "cells": [
        {
            "cell_type": "markdown",
            "id": "145975ff",
            "metadata": {
                "ExecuteTime": {
                    "end_time": "2021-06-13T04:58:33.220041Z",
                    "start_time": "2021-06-13T04:58:33.217431Z"
                }
            },
            "source": "# Reeborg's World\n\n### Solution for Hurdle 1,2,3,4\n\n[Open Reeborg's World Hurdle 4](https://reeborg.ca/reeborg.html?lang=en&mode=python&menu=worlds%2Fmenus%2Freeborg_intro_en.json&name=Hurdle%204&url=worlds%2Ftutorial_en%2Fhurdle4.json)"
        },
        {
            "cell_type": "code",
            "execution_count": null,
            "id": "269c5e8d",
            "metadata": {},
            "outputs": [],
            "source": "def turn_right():\n    turn_left()\n    turn_left()\n    turn_left()\n\ndef standing_jump():\n    turn_left()\n    while wall_on_right() and not wall_in_front() and not at_goal():\n        move()\n    if not wall_on_right() and not at_goal():\n        turn_right()\n        move()\n        turn_right()\n    \nwhile not at_goal():\n    if wall_in_front():\n        standing_jump()\n    elif front_is_clear():\n        move()"
        },
        {
            "cell_type": "markdown",
            "id": "464ce534",
            "metadata": {
                "ExecuteTime": {
                    "end_time": "2021-06-13T06:12:42.941089Z",
                    "start_time": "2021-06-13T06:12:42.928718Z"
                }
            },
            "source": "### Solution for Maze\n\n[Open Reeborg's World Maze](https://reeborg.ca/reeborg.html?lang=en&mode=python&menu=worlds%2Fmenus%2Freeborg_intro_en.json&name=Maze&url=worlds%2Ftutorial_en%2Fmaze1.json)"
        },
        {
            "cell_type": "code",
            "execution_count": null,
            "id": "021acf29",
            "metadata": {},
            "outputs": [],
            "source": "def turn_right():\n    turn_left()\n    turn_left()\n    turn_left()\n\nwhile front_is_clear():\n    move()\nturn_left()\n    \nwhile not at_goal():\n    if right_is_clear():\n        turn_right()\n        move()\n    elif front_is_clear():\n        move()\n    else:\n        turn_left()\n        if front_is_clear():\n            move()\n        else:\n            turn_left()\n            move()"
        }
    ],
    "metadata": {
        "kernelspec": {
            "display_name": "Python 3",
            "language": "python",
            "name": "python3"
        },
        "language_info": {
            "codemirror_mode": {
                "name": "ipython",
                "version": 3
            },
            "file_extension": ".py",
            "mimetype": "text/x-python",
            "name": "python",
            "nbconvert_exporter": "python",
            "pygments_lexer": "ipython3",
            "version": "3.8.8"
        },
        "varInspector": {
            "cols": {
                "lenName": 16,
                "lenType": 16,
                "lenVar": 40
            },
            "kernels_config": {
                "python": {
                    "delete_cmd_postfix": "",
                    "delete_cmd_prefix": "del ",
                    "library": "var_list.py",
                    "varRefreshCmd": "print(var_dic_list())"
                },
                "r": {
                    "delete_cmd_postfix": ") ",
                    "delete_cmd_prefix": "rm(",
                    "library": "var_list.r",
                    "varRefreshCmd": "cat(var_dic_list()) "
                }
            },
            "types_to_exclude": [
                "module",
                "function",
                "builtin_function_or_method",
                "instance",
                "_Feature"
            ],
            "window_display": false
        }
    },
    "nbformat": 4,
    "nbformat_minor": 5
}