{
    "cells": [
        {
            "cell_type": "markdown",
            "id": "50727bc8",
            "metadata": {},
            "source": "# Rock, Paper, Scissors"
        },
        {
            "cell_type": "code",
            "execution_count": 1,
            "id": "4188be2e",
            "metadata": {
                "ExecuteTime": {
                    "end_time": "2021-06-12T10:56:43.670359Z",
                    "start_time": "2021-06-12T10:56:23.357223Z"
                }
            },
            "outputs": [
                {
                    "name": "stdout",
                    "output_type": "stream",
                    "text": "Let's play! Rock, Paper, Scissors!!\n\nWhat do you choose?\n\nType 0 for Rock, 1 for paper, 2 for Scissors!\n\n* 0\n* 1\n* 2\n5\n'5' is not a valid choice.\nType 0 for Rock, 1 for paper, 2 for Scissors!\n\n* 0\n* 1\n* 2\n0\n\nComputer Chose:\n \n    _______\n---'   ____)____\n          ______)\n          _______)\n         _______)\n---.__________)\n\n\nUser Chose:\n \n    _______\n---'   ____)\n      (_____)\n      (_____)\n      (____)\n---.__(___)\n\n\nYou Lose!\n\n\nDo you want to play again?\n\n1. Yes\n2. No\nyes\n\nWhat do you choose?\n\nType 0 for Rock, 1 for paper, 2 for Scissors!\n\n* 0\n* 1\n* 2\n3\n'3' is not a valid choice.\nType 0 for Rock, 1 for paper, 2 for Scissors!\n\n* 0\n* 1\n* 2\n2\n\nComputer Chose:\n \n    _______\n---'   ____)____\n          ______)\n       __________)\n      (____)\n---.__(___)\n\n\nUser Chose:\n \n    _______\n---'   ____)____\n          ______)\n       __________)\n      (____)\n---.__(___)\n\n\nIt's a Draw!\n\n\nDo you want to play again?\n\n1. Yes\n2. No\nno\n\nIt was nice to meet you! Take care.\n"
                }
            ],
            "source": "import random\nimport time\nimport pyinputplus as pyip\n\nprint(\"Let's play! Rock, Paper, Scissors!!\")\nprint()\ntime.sleep(1)\n\nRock = '''\n    _______\n---'   ____)\n      (_____)\n      (_____)\n      (____)\n---.__(___)\n'''\n\nPaper = '''\n    _______\n---'   ____)____\n          ______)\n          _______)\n         _______)\n---.__________)\n'''\n\nScissors = '''\n    _______\n---'   ____)____\n          ______)\n       __________)\n      (____)\n---.__(___)\n'''\nimages = [Rock, Paper, Scissors]\nplayagain = \"Yes\"\n\nwhile playagain == \"Yes\":\n    computer_choice = random.randint(0,2)\n    user_choice = print('What do you choose?')\n    print()\n    user_choice = int(pyip.inputMenu(['0','1','2'], prompt= 'Type 0 for Rock, 1 for paper, 2 for Scissors!\\n\\n'))\n\n    print()\n    print(f\"Computer Chose:\\n {images[computer_choice]}\")\n    print()\n    time.sleep(1)\n    print(f\"User Chose:\\n {images[user_choice]}\")\n    print()\n    time.sleep(1)\n    if user_choice == computer_choice:\n        print(\"It's a Draw!\")\n    elif user_choice == 0 and computer_choice == 1:\n        print(\"You Lose!\")\n    elif user_choice == 0 and computer_choice == 2:\n        print(\"You Win!\")\n    elif user_choice == 1 and computer_choice == 0:\n        print(\"You Win!\")\n    elif user_choice == 1 and computer_choice == 2:\n        print(\"You Lose!\")\n    elif user_choice == 2 and computer_choice == 0:\n        print(\"You Lose!\")  \n    elif user_choice == 2 and computer_choice == 1:\n        print(\"You Win!\")\n    else :\n        print('Wrong Input. Try Again.')\n    print()\n    print()\n    time.sleep(1)\n    print(\"Do you want to play again?\")\n    print()\n    playagain = pyip.inputMenu(['Yes', 'No'], prompt= \"\", numbered= True)\n    print()\n    if playagain == \"No\":\n        print(\"It was nice to meet you! Take care.\")"
        }
    ],
    "metadata": {
        "kernelspec": {
            "display_name": "Python 3",
            "language": "python",
            "name": "python3"
        },
        "language_info": {
            "codemirror_mode": {
                "name": "ipython",
                "version": 3
            },
            "file_extension": ".py",
            "mimetype": "text/x-python",
            "name": "python",
            "nbconvert_exporter": "python",
            "pygments_lexer": "ipython3",
            "version": "3.8.8"
        },
        "varInspector": {
            "cols": {
                "lenName": 16,
                "lenType": 16,
                "lenVar": 40
            },
            "kernels_config": {
                "python": {
                    "delete_cmd_postfix": "",
                    "delete_cmd_prefix": "del ",
                    "library": "var_list.py",
                    "varRefreshCmd": "print(var_dic_list())"
                },
                "r": {
                    "delete_cmd_postfix": ") ",
                    "delete_cmd_prefix": "rm(",
                    "library": "var_list.r",
                    "varRefreshCmd": "cat(var_dic_list()) "
                }
            },
            "types_to_exclude": [
                "module",
                "function",
                "builtin_function_or_method",
                "instance",
                "_Feature"
            ],
            "window_display": false
        }
    },
    "nbformat": 4,
    "nbformat_minor": 5
}